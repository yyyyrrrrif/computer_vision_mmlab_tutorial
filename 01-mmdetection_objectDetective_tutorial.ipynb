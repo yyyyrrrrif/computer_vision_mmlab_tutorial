{
 "cells": [
  {
   "attachments": {},
   "cell_type": "markdown",
   "metadata": {},
   "source": [
    "# 利用MMdetection进行目标检测"
   ]
  },
  {
   "attachments": {},
   "cell_type": "markdown",
   "metadata": {},
   "source": [
    "## 1.mmdetection安装"
   ]
  },
  {
   "cell_type": "code",
   "execution_count": null,
   "metadata": {},
   "outputs": [],
   "source": [
    "# 安装mim、mmengin、mmcv\n",
    "!pip install -U openmim\n",
    "!mim install mmengine\n",
    "!mim install \"mmcv>=2.0.0\""
   ]
  },
  {
   "cell_type": "code",
   "execution_count": null,
   "metadata": {},
   "outputs": [],
   "source": [
    "# 下载源码并安装\n",
    "!git clone https://github.com/open-mmlab/mmdetection.git\n",
    "!cd mmdetection\n",
    "!pip install -v -e ."
   ]
  },
  {
   "attachments": {},
   "cell_type": "markdown",
   "metadata": {},
   "source": [
    "## 2.查看是否安装成功"
   ]
  },
  {
   "cell_type": "code",
   "execution_count": 3,
   "metadata": {},
   "outputs": [
    {
     "name": "stdout",
     "output_type": "stream",
     "text": [
      "processing rtmdet_tiny_8xb32-300e_coco...\n",
      "\u001b[32mrtmdet_tiny_8xb32-300e_coco_20220902_112414-78e30dcc.pth exists in /Users/yourifan/deepLearning/CV_Algorithm_tutorial/computer_vision_mmlab_tutorial/config\u001b[0m\n",
      "\u001b[32mSuccessfully dumped rtmdet_tiny_8xb32-300e_coco.py to /Users/yourifan/deepLearning/CV_Algorithm_tutorial/computer_vision_mmlab_tutorial/config\u001b[0m\n"
     ]
    }
   ],
   "source": [
    "# 下载所需的配置文件到指定目录下：\n",
    "!mim download mmdet --config rtmdet_tiny_8xb32-300e_coco --dest ./config"
   ]
  },
  {
   "cell_type": "code",
   "execution_count": 7,
   "metadata": {},
   "outputs": [
    {
     "name": "stdout",
     "output_type": "stream",
     "text": [
      "Loads checkpoint by local backend from path: ./config/rtmdet_tiny_8xb32-300e_coco_20220902_112414-78e30dcc.pth\n",
      "The model and loaded state dict do not match exactly\n",
      "\n",
      "unexpected key in source state_dict: data_preprocessor.mean, data_preprocessor.std\n",
      "\n",
      "07/22 15:41:51 - mmengine - \u001b[5m\u001b[4m\u001b[33mWARNING\u001b[0m - Failed to search registry with scope \"mmdet\" in the \"function\" registry tree. As a workaround, the current \"function\" registry in \"mmengine\" is used to build instance. This may cause unexpected failure when running the built modules. Please check whether \"mmdet\" is a correct scope, or whether the registry is initialized.\n",
      "07/22 15:41:51 - mmengine - \u001b[5m\u001b[4m\u001b[33mWARNING\u001b[0m - `Visualizer` backend is not initialized because save_dir is None.\n",
      "\u001b[2K/Users/yourifan/anaconda3/envs/openmmlab/lib/python3.8/site-packages/torch/funct\u001b[35m━\u001b[0m\u001b[90m━\u001b[0m\u001b[90m━\u001b[0m\u001b[90m━\u001b[0m\u001b[90m━\u001b[0m\u001b[90m━\u001b[0m\u001b[90m━\u001b[0m\u001b[90m━\u001b[0m\u001b[90m━\u001b[0m\u001b[90m━\u001b[0m\u001b[90m━\u001b[0m\u001b[90m━\u001b[0m\u001b[35m━\u001b[0m\u001b[91m━\u001b[0m\u001b[91m━\u001b[0m\u001b[91m━\u001b[0m\u001b[91m━\u001b[0m\u001b[91m━\u001b[0m\u001b[91m━\u001b[0m\u001b[91m━\u001b[0m\u001b[35m━\u001b[0m\u001b[90m━\u001b[0m\u001b[90m━\u001b[0m\u001b[90m━\u001b[0m\u001b[90m━\u001b[0m\u001b[90m━\u001b[0m\u001b[90m━\u001b[0m\u001b[90m━\u001b[0m\u001b[90m━\u001b[0m\u001b[90m━\u001b[0m\u001b[90m━\u001b[0m\u001b[90m━\u001b[0m\u001b[35m━\u001b[0m  \u001b[36m \u001b[0m\n",
      "ional.py:504: UserWarning: torch.meshgrid: in an upcoming release, it will be \n",
      "required to pass the indexing argument. (Triggered internally at \n",
      "/Users/runner/work/_temp/anaconda/conda-bld/pytorch_1682343685278/work/aten/src/\n",
      "ATen/native/TensorShape.cpp:3484.)\n",
      "  return _VF.meshgrid(tensors, **kwargs)  # type: ignore[attr-defined]\n",
      "\u001b[2KInference \u001b[90m━\u001b[0m\u001b[90m━\u001b[0m\u001b[35m━\u001b[0m\u001b[91m━\u001b[0m\u001b[91m━\u001b[0m\u001b[91m━\u001b[0m\u001b[91m━\u001b[0m\u001b[91m━\u001b[0m\u001b[91m━\u001b[0m\u001b[91m━\u001b[0m\u001b[35m━\u001b[0m\u001b[90m━\u001b[0m\u001b[90m━\u001b[0m\u001b[90m━\u001b[0m\u001b[90m━\u001b[0m\u001b[90m━\u001b[0m\u001b[90m━\u001b[0m\u001b[90m━\u001b[0m\u001b[90m━\u001b[0m\u001b[90m━\u001b[0m\u001b[90m━\u001b[0m\u001b[90m━\u001b[0m\u001b[35m━\u001b[0m\u001b[91m━\u001b[0m\u001b[91m━\u001b[0m\u001b[91m━\u001b[0m\u001b[91m━\u001b[0m\u001b[91m━\u001b[0m\u001b[91m━\u001b[0m\u001b[91m━\u001b[0m\u001b[35m━\u001b[0m\u001b[90m━\u001b[0m\u001b[90m━\u001b[0m\u001b[90m━\u001b[0m\u001b[90m━\u001b[0m\u001b[90m━\u001b[0m\u001b[90m━\u001b[0m\u001b[90m━\u001b[0m\u001b[90m━\u001b[0m\u001b[90m━\u001b[0m  \u001b[36m \u001b[0m\n",
      "\u001b[?25hresults have been saved at outputs\n"
     ]
    }
   ],
   "source": [
    "# 运行以下命令验证：\n",
    "!python ../mmdetection/demo/image_demo.py ../mmdetection/demo/demo.jpg ./config/rtmdet_tiny_8xb32-300e_coco.py --weights ./config/rtmdet_tiny_8xb32-300e_coco_20220902_112414-78e30dcc.pth --device cpu"
   ]
  },
  {
   "cell_type": "code",
   "execution_count": 16,
   "metadata": {},
   "outputs": [
    {
     "name": "stdout",
     "output_type": "stream",
     "text": [
      "Loads checkpoint by local backend from path: ./config/rtmdet_tiny_8xb32-300e_coco_20220902_112414-78e30dcc.pth\n",
      "The model and loaded state dict do not match exactly\n",
      "\n",
      "unexpected key in source state_dict: data_preprocessor.mean, data_preprocessor.std\n",
      "\n"
     ]
    },
    {
     "name": "stderr",
     "output_type": "stream",
     "text": [
      "/Users/yourifan/anaconda3/envs/openmmlab/lib/python3.8/site-packages/torch/functional.py:504: UserWarning: torch.meshgrid: in an upcoming release, it will be required to pass the indexing argument. (Triggered internally at /Users/runner/work/_temp/anaconda/conda-bld/pytorch_1682343685278/work/aten/src/ATen/native/TensorShape.cpp:3484.)\n",
      "  return _VF.meshgrid(tensors, **kwargs)  # type: ignore[attr-defined]\n"
     ]
    },
    {
     "data": {
      "text/plain": [
       "<DetDataSample(\n",
       "\n",
       "    META INFORMATION\n",
       "    img_id: 0\n",
       "    batch_input_shape: (640, 640)\n",
       "    scale_factor: (1.0, 1.0)\n",
       "    ori_shape: (427, 640)\n",
       "    img_path: '../mmdetection/demo/demo.jpg'\n",
       "    img_shape: (640, 640)\n",
       "    pad_shape: (640, 640)\n",
       "\n",
       "    DATA FIELDS\n",
       "    ignored_instances: <InstanceData(\n",
       "        \n",
       "            META INFORMATION\n",
       "        \n",
       "            DATA FIELDS\n",
       "            bboxes: tensor([], size=(0, 4))\n",
       "            labels: tensor([], dtype=torch.int64)\n",
       "        ) at 0x14d7e52e0>\n",
       "    pred_instances: <InstanceData(\n",
       "        \n",
       "            META INFORMATION\n",
       "        \n",
       "            DATA FIELDS\n",
       "            bboxes: tensor([[221.3719, 176.1281, 456.2581, 383.2401],\n",
       "                        [295.3506, 117.1835, 378.5715, 150.2712],\n",
       "                        [190.5735, 109.7099, 299.5221, 155.0396],\n",
       "                        ...,\n",
       "                        [373.1318, 133.4568, 432.5015, 188.4432],\n",
       "                        [ 62.4457,  80.0291, 119.8074, 104.2917],\n",
       "                        [141.4960,  94.1753, 184.4167, 107.8061]])\n",
       "            scores: tensor([0.8703, 0.7677, 0.7428, 0.6995, 0.6847, 0.6238, 0.6097, 0.6063, 0.5566,\n",
       "                        0.5535, 0.5015, 0.4779, 0.4746, 0.4718, 0.4639, 0.4491, 0.4410, 0.4129,\n",
       "                        0.3939, 0.3650, 0.3524, 0.3442, 0.3207, 0.3191, 0.3145, 0.3144, 0.3119,\n",
       "                        0.2992, 0.2890, 0.2762, 0.2760, 0.2735, 0.2694, 0.2658, 0.2572, 0.2533,\n",
       "                        0.2480, 0.2347, 0.2308, 0.2259, 0.2255, 0.2252, 0.2240, 0.2235, 0.2196,\n",
       "                        0.2136, 0.2099, 0.2051, 0.1983, 0.1972, 0.1972, 0.1909, 0.1903, 0.1873,\n",
       "                        0.1872, 0.1828, 0.1816, 0.1794, 0.1789, 0.1761, 0.1760, 0.1743, 0.1743,\n",
       "                        0.1722, 0.1717, 0.1710, 0.1708, 0.1690, 0.1688, 0.1651, 0.1649, 0.1628,\n",
       "                        0.1622, 0.1619, 0.1611, 0.1575, 0.1569, 0.1520, 0.1490, 0.1479, 0.1474,\n",
       "                        0.1473, 0.1462, 0.1443, 0.1435, 0.1426, 0.1420, 0.1414, 0.1398, 0.1383,\n",
       "                        0.1382, 0.1373, 0.1360, 0.1354, 0.1288, 0.1285, 0.1280, 0.1210, 0.1206,\n",
       "                        0.1194, 0.1145, 0.1141, 0.1137, 0.1135, 0.1134, 0.1133, 0.1118, 0.1110,\n",
       "                        0.1086, 0.1074, 0.1068, 0.1068, 0.1064, 0.1063, 0.1049, 0.1045, 0.1045,\n",
       "                        0.1042, 0.1042, 0.1023, 0.1007, 0.1004, 0.0992, 0.0988, 0.0985, 0.0984,\n",
       "                        0.0984, 0.0978, 0.0974, 0.0965, 0.0964, 0.0964, 0.0962, 0.0962, 0.0956,\n",
       "                        0.0954, 0.0948, 0.0942, 0.0940, 0.0931, 0.0928, 0.0922, 0.0922, 0.0915,\n",
       "                        0.0915, 0.0913, 0.0911, 0.0908, 0.0900, 0.0895, 0.0882, 0.0873, 0.0865,\n",
       "                        0.0864, 0.0861, 0.0853, 0.0851, 0.0851, 0.0843, 0.0842, 0.0841, 0.0825,\n",
       "                        0.0821, 0.0810, 0.0810, 0.0806, 0.0804, 0.0802, 0.0800, 0.0794, 0.0793,\n",
       "                        0.0792, 0.0792, 0.0787, 0.0780, 0.0773, 0.0772, 0.0770, 0.0763, 0.0763,\n",
       "                        0.0758, 0.0755, 0.0754, 0.0753, 0.0752, 0.0750, 0.0747, 0.0740, 0.0719,\n",
       "                        0.0714, 0.0712, 0.0712, 0.0711, 0.0711, 0.0704, 0.0700, 0.0696, 0.0683,\n",
       "                        0.0676, 0.0674, 0.0671, 0.0671, 0.0665, 0.0662, 0.0659, 0.0658, 0.0658,\n",
       "                        0.0658, 0.0655, 0.0650, 0.0649, 0.0644, 0.0638, 0.0637, 0.0636, 0.0631,\n",
       "                        0.0629, 0.0628, 0.0627, 0.0616, 0.0615, 0.0613, 0.0613, 0.0611, 0.0608,\n",
       "                        0.0607, 0.0607, 0.0602, 0.0601, 0.0600, 0.0599, 0.0598, 0.0596, 0.0595,\n",
       "                        0.0593, 0.0591, 0.0591, 0.0587, 0.0586, 0.0584, 0.0584, 0.0583, 0.0583,\n",
       "                        0.0580, 0.0578, 0.0577, 0.0571, 0.0571, 0.0567, 0.0567, 0.0565, 0.0563,\n",
       "                        0.0561, 0.0561, 0.0561, 0.0560, 0.0560, 0.0558, 0.0555, 0.0554, 0.0553,\n",
       "                        0.0552, 0.0552, 0.0551, 0.0550, 0.0548, 0.0548, 0.0545, 0.0544, 0.0543,\n",
       "                        0.0543, 0.0540, 0.0540, 0.0540, 0.0539, 0.0537, 0.0536, 0.0536, 0.0536,\n",
       "                        0.0535, 0.0532, 0.0532, 0.0532, 0.0531, 0.0530, 0.0530, 0.0529, 0.0526,\n",
       "                        0.0526, 0.0525, 0.0524, 0.0523, 0.0523, 0.0523, 0.0518, 0.0515, 0.0514,\n",
       "                        0.0510, 0.0507, 0.0507])\n",
       "            labels: tensor([13,  2,  2,  2,  2,  2,  2,  2,  2,  2,  2,  2,  2, 56, 13,  2,  2,  2,\n",
       "                         2,  2,  2,  2,  2,  2,  2,  7,  2,  2,  2,  2,  2,  2,  2,  2,  2,  2,\n",
       "                         2,  2,  2,  7,  2,  7,  2,  7,  2,  2,  2,  2,  0,  2,  7,  2,  2,  7,\n",
       "                         2,  2, 56,  2, 56,  2,  2,  2,  2,  2,  7,  2,  2,  2,  2,  2,  2,  2,\n",
       "                        60, 13,  7,  2,  7,  2, 16,  2,  7,  2,  2,  2, 13,  2,  2,  2,  2,  2,\n",
       "                         7,  2,  7,  7,  2,  7,  2,  2,  7,  7,  2,  2, 60, 13,  2,  2, 13,  2,\n",
       "                         2,  2,  7,  2,  7,  2,  2,  2,  7,  2,  2,  7,  2,  2,  2,  2,  2,  2,\n",
       "                         7,  2,  7,  2,  7, 13,  7,  7,  2,  7, 13,  0,  2, 17,  2,  2,  2,  2,\n",
       "                         2,  7, 28, 56,  7,  7,  2,  1,  2,  7, 13,  2,  2,  7,  2, 13,  2,  2,\n",
       "                         7,  2,  0,  2,  7,  7, 58,  7, 57,  9, 13,  2,  2,  2,  7, 56,  2,  2,\n",
       "                         3, 13, 56,  7,  7, 13,  2,  2,  0, 16,  2,  7,  7,  0,  7,  0,  7,  7,\n",
       "                         2,  7,  7,  7,  7,  2,  2,  2,  2, 13,  7,  5,  0,  0,  7,  0,  7,  2,\n",
       "                         7,  1,  1,  2,  2,  7,  1,  2,  7,  2, 14, 13,  5,  3, 13,  7,  7, 56,\n",
       "                         7,  7,  3,  7, 13,  0,  2,  2,  2,  2,  1, 13,  2, 13,  2, 13,  2,  7,\n",
       "                         3,  2,  3,  2,  0,  2, 13, 60,  7,  7,  7, 56,  3,  0,  2, 13,  5,  0,\n",
       "                         0,  7,  7,  2, 60, 59,  7,  0,  7,  7,  2,  2,  2,  2,  1,  7,  1,  2,\n",
       "                         0,  7,  5,  0,  0,  7,  0,  7, 56,  3,  7,  1])\n",
       "        ) at 0x14d7e5460>\n",
       "    gt_instances: <InstanceData(\n",
       "        \n",
       "            META INFORMATION\n",
       "        \n",
       "            DATA FIELDS\n",
       "            bboxes: tensor([], size=(0, 4))\n",
       "            labels: tensor([], dtype=torch.int64)\n",
       "        ) at 0x14d7e5310>\n",
       ") at 0x14d7e5370>"
      ]
     },
     "execution_count": 16,
     "metadata": {},
     "output_type": "execute_result"
    }
   ],
   "source": [
    "# 或运行如下命令进行验证：\n",
    "from mmdet.apis import init_detector, inference_detector\n",
    "\n",
    "config_file = './config/rtmdet_tiny_8xb32-300e_coco.py'\n",
    "checkpoint_file = './config/rtmdet_tiny_8xb32-300e_coco_20220902_112414-78e30dcc.pth'\n",
    "model = init_detector(config_file, checkpoint_file, device='cpu')  # or device='cuda:0'\n",
    "inference_detector(model, '../mmdetection/demo/demo.jpg')"
   ]
  },
  {
   "attachments": {},
   "cell_type": "markdown",
   "metadata": {},
   "source": [
    "## 3.对比不同模型的检测效果"
   ]
  },
  {
   "cell_type": "code",
   "execution_count": null,
   "metadata": {},
   "outputs": [],
   "source": []
  }
 ],
 "metadata": {
  "kernelspec": {
   "display_name": "openmmlab",
   "language": "python",
   "name": "python3"
  },
  "language_info": {
   "codemirror_mode": {
    "name": "ipython",
    "version": 3
   },
   "file_extension": ".py",
   "mimetype": "text/x-python",
   "name": "python",
   "nbconvert_exporter": "python",
   "pygments_lexer": "ipython3",
   "version": "3.8.16"
  },
  "orig_nbformat": 4
 },
 "nbformat": 4,
 "nbformat_minor": 2
}
